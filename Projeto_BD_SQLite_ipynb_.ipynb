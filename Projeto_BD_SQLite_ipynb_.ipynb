{
  "nbformat": 4,
  "nbformat_minor": 0,
  "metadata": {
    "colab": {
      "provenance": [],
      "authorship_tag": "ABX9TyP88tGXwps8dx4qDrJffEZO",
      "include_colab_link": true
    },
    "kernelspec": {
      "name": "python3",
      "display_name": "Python 3"
    },
    "language_info": {
      "name": "python"
    }
  },
  "cells": [
    {
      "cell_type": "markdown",
      "metadata": {
        "id": "view-in-github",
        "colab_type": "text"
      },
      "source": [
        "<a href=\"https://colab.research.google.com/github/PamelaRosa23/projeto-bd-colab/blob/main/Projeto_BD_SQLite_ipynb_.ipynb\" target=\"_parent\"><img src=\"https://colab.research.google.com/assets/colab-badge.svg\" alt=\"Open In Colab\"/></a>"
      ]
    },
    {
      "cell_type": "code",
      "execution_count": 1,
      "metadata": {
        "colab": {
          "base_uri": "https://localhost:8080/"
        },
        "id": "BfNcFqLbWZdD",
        "outputId": "80b7d4d0-5c5d-4db4-c8ed-f8368ac8004c"
      },
      "outputs": [
        {
          "output_type": "stream",
          "name": "stdout",
          "text": [
            "RELATÓRIO DE VENDAS:\n",
            "Venda #1 | Cliente: Maria | Produto: Caneta | Qtd: 10 | Preço: R$1.50 | Total: R$15.00\n",
            "Venda #2 | Cliente: João | Produto: Caderno | Qtd: 2 | Preço: R$6.50 | Total: R$13.00\n",
            "Venda #3 | Cliente: Ana | Produto: Lápis | Qtd: 5 | Preço: R$0.75 | Total: R$3.75\n"
          ]
        }
      ],
      "source": [
        "# PROJETO-BD-SQLITE.ipynb\n",
        "# ---------------------------------------------------------\n",
        "# Seção 1: Importar bibliotecas e conectar ao BD\n",
        "\n",
        "import sqlite3\n",
        "\n",
        "# Conectar ao banco de dados em memória (ou use 'projeto.db' para arquivo)\n",
        "conn = sqlite3.connect(':memory:')\n",
        "cursor = conn.cursor()\n",
        "\n",
        "# (Opcional) Garantir que as chaves estrangeiras funcionem\n",
        "cursor.execute(\"PRAGMA foreign_keys = ON;\")\n",
        "\n",
        "# ---------------------------------------------------------\n",
        "# Seção 2: Criação de tabelas\n",
        "\n",
        "cursor.execute('''\n",
        "CREATE TABLE IF NOT EXISTS pessoas (\n",
        "    id INTEGER PRIMARY KEY AUTOINCREMENT,\n",
        "    nome TEXT NOT NULL,\n",
        "    idade INTEGER\n",
        ");\n",
        "''')\n",
        "\n",
        "cursor.execute('''\n",
        "CREATE TABLE IF NOT EXISTS produtos (\n",
        "    id INTEGER PRIMARY KEY AUTOINCREMENT,\n",
        "    descricao TEXT NOT NULL,\n",
        "    estoque INTEGER,\n",
        "    preco REAL\n",
        ");\n",
        "''')\n",
        "\n",
        "cursor.execute('''\n",
        "CREATE TABLE IF NOT EXISTS vendas (\n",
        "    id_venda INTEGER PRIMARY KEY AUTOINCREMENT,\n",
        "    id_pessoa INTEGER,\n",
        "    id_produto INTEGER,\n",
        "    quantidade INTEGER,\n",
        "    FOREIGN KEY (id_pessoa) REFERENCES pessoas(id),\n",
        "    FOREIGN KEY (id_produto) REFERENCES produtos(id)\n",
        ");\n",
        "''')\n",
        "\n",
        "conn.commit()\n",
        "\n",
        "# ---------------------------------------------------------\n",
        "# Seção 3: Inserção de dados\n",
        "\n",
        "# Inserir pessoas\n",
        "cursor.executemany(\"INSERT INTO pessoas (nome, idade) VALUES (?, ?);\", [\n",
        "    ('Maria', 30),\n",
        "    ('João', 25),\n",
        "    ('Ana', 40)\n",
        "])\n",
        "\n",
        "# Inserir produtos\n",
        "cursor.executemany(\"INSERT INTO produtos (descricao, estoque, preco) VALUES (?, ?, ?);\", [\n",
        "    ('Caneta', 100, 1.50),\n",
        "    ('Caderno', 50, 6.50),\n",
        "    ('Lápis', 200, 0.75)\n",
        "])\n",
        "\n",
        "conn.commit()\n",
        "\n",
        "# ---------------------------------------------------------\n",
        "# Seção 4: Exemplo de vendas e consultas\n",
        "\n",
        "# Inserir vendas\n",
        "cursor.executemany(\"INSERT INTO vendas (id_pessoa, id_produto, quantidade) VALUES (?, ?, ?);\", [\n",
        "    (1, 1, 10),  # Maria comprou 10 canetas\n",
        "    (2, 2, 2),   # João comprou 2 cadernos\n",
        "    (3, 3, 5)    # Ana comprou 5 lápis\n",
        "])\n",
        "\n",
        "conn.commit()\n",
        "\n",
        "# Consulta com JOIN\n",
        "print(\"RELATÓRIO DE VENDAS:\")\n",
        "cursor.execute('''\n",
        "SELECT v.id_venda, p.nome, pr.descricao, v.quantidade, pr.preco,\n",
        "       (v.quantidade * pr.preco) AS total\n",
        "FROM vendas v\n",
        "JOIN pessoas p ON v.id_pessoa = p.id\n",
        "JOIN produtos pr ON v.id_produto = pr.id\n",
        "ORDER BY v.id_venda;\n",
        "''')\n",
        "\n",
        "results = cursor.fetchall()\n",
        "\n",
        "# Exibir resultados formatados\n",
        "for row in results:\n",
        "    print(f\"Venda #{row[0]} | Cliente: {row[1]} | Produto: {row[2]} | \"\n",
        "          f\"Qtd: {row[3]} | Preço: R${row[4]:.2f} | Total: R${row[5]:.2f}\")\n",
        "\n",
        "# ---------------------------------------------------------\n",
        "# Seção 5: Encerramento\n",
        "\n",
        "conn.close()\n"
      ]
    }
  ]
}