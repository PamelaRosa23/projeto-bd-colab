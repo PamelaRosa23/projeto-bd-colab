{
  "nbformat": 4,
  "nbformat_minor": 0,
  "metadata": {
    "colab": {
      "provenance": [],
      "authorship_tag": "ABX9TyM4o78NXTGBLZZRIizYnt2y",
      "include_colab_link": true
    },
    "kernelspec": {
      "name": "python3",
      "display_name": "Python 3"
    },
    "language_info": {
      "name": "python"
    }
  },
  "cells": [
    {
      "cell_type": "markdown",
      "metadata": {
        "id": "view-in-github",
        "colab_type": "text"
      },
      "source": [
        "<a href=\"https://colab.research.google.com/github/PamelaRosa23/projeto-bd-colab/blob/main/C%C3%B3pia_de_Projeto_BD_SQLite.ipynb\" target=\"_parent\"><img src=\"https://colab.research.google.com/assets/colab-badge.svg\" alt=\"Open In Colab\"/></a>"
      ]
    },
    {
      "cell_type": "code",
      "execution_count": null,
      "metadata": {
        "colab": {
          "base_uri": "https://localhost:8080/"
        },
        "id": "O9VUnoW14KVs",
        "outputId": "a7521e4e-e26c-4a67-e6f3-ce51b48798cb"
      },
      "outputs": [
        {
          "output_type": "stream",
          "name": "stdout",
          "text": [
            "SQLite pronto para uso!\n"
          ]
        }
      ],
      "source": [
        "import sqlite3\n",
        "print(\"SQLite pronto para uso!\")\n"
      ]
    },
    {
      "cell_type": "code",
      "source": [
        "import sqlite3\n",
        "\n",
        "# Criar conexão com SQLite (arquivo ou memória)\n",
        "conexao = sqlite3.connect(\"sistema_escolar.db\")  # Para salvar em arquivo\n",
        "# conexao = sqlite3.connect(\":memory:\")  # Para usar em memória (temporário)\n",
        "\n",
        "# Criar um cursor para executar comandos SQL\n",
        "cursor = conexao.cursor()\n",
        "\n",
        "print(\"Banco de dados conectado com sucesso!\")\n"
      ],
      "metadata": {
        "colab": {
          "base_uri": "https://localhost:8080/"
        },
        "id": "hP7q5Z_d5bh4",
        "outputId": "a1c72af6-a077-4fd2-8886-2d3ef8ace556"
      },
      "execution_count": null,
      "outputs": [
        {
          "output_type": "stream",
          "name": "stdout",
          "text": [
            "Banco de dados conectado com sucesso!\n"
          ]
        }
      ]
    },
    {
      "cell_type": "code",
      "source": [
        "# Criar tabelas\n",
        "cursor.execute(\"\"\"\n",
        "CREATE TABLE IF NOT EXISTS Alunos (\n",
        "    id INTEGER PRIMARY KEY AUTOINCREMENT,\n",
        "    nome TEXT NOT NULL,\n",
        "    idade INTEGER,\n",
        "    turma TEXT\n",
        ");\n",
        "\"\"\")\n",
        "\n",
        "cursor.execute(\"\"\"\n",
        "CREATE TABLE IF NOT EXISTS Professores (\n",
        "    id INTEGER PRIMARY KEY AUTOINCREMENT,\n",
        "    nome TEXT NOT NULL,\n",
        "    disciplina TEXT NOT NULL\n",
        ");\n",
        "\"\"\")\n",
        "\n",
        "cursor.execute(\"\"\"\n",
        "CREATE TABLE IF NOT EXISTS Matriculas (\n",
        "    id INTEGER PRIMARY KEY AUTOINCREMENT,\n",
        "    aluno_id INTEGER,\n",
        "    professor_id INTEGER,\n",
        "    FOREIGN KEY (aluno_id) REFERENCES Alunos(id),\n",
        "    FOREIGN KEY (professor_id) REFERENCES Professores(id)\n",
        ");\n",
        "\"\"\")\n",
        "\n",
        "# Confirmar as mudanças\n",
        "conexao.commit()\n",
        "\n",
        "print(\"Tabelas criadas com sucesso!\")\n"
      ],
      "metadata": {
        "colab": {
          "base_uri": "https://localhost:8080/"
        },
        "id": "V9J2Dspj5oFy",
        "outputId": "c86f3e66-248e-4184-a0b8-ffb9ccb482f9"
      },
      "execution_count": null,
      "outputs": [
        {
          "output_type": "stream",
          "name": "stdout",
          "text": [
            "Tabelas criadas com sucesso!\n"
          ]
        }
      ]
    },
    {
      "cell_type": "code",
      "source": [
        "# Inserir alunos\n",
        "cursor.executemany(\"\"\"\n",
        "INSERT INTO Alunos (nome, idade, turma) VALUES (?, ?, ?)\n",
        "\"\"\", [\n",
        "    (\"Ana Souza\", 14, \"9A\"),\n",
        "    (\"Carlos Silva\", 15, \"9B\"),\n",
        "    (\"Mariana Costa\", 13, \"8A\")\n",
        "])\n",
        "\n",
        "# Inserir professores\n",
        "cursor.executemany(\"\"\"\n",
        "INSERT INTO Professores (nome, disciplina) VALUES (?, ?)\n",
        "\"\"\", [\n",
        "    (\"Professor João\", \"Matemática\"),\n",
        "    (\"Professora Maria\", \"História\")\n",
        "])\n",
        "\n",
        "# Inserir matrículas (relacionamento entre alunos e professores)\n",
        "cursor.executemany(\"\"\"\n",
        "INSERT INTO Matriculas (aluno_id, professor_id) VALUES (?, ?)\n",
        "\"\"\", [\n",
        "    (1, 1),  # Ana matriculada com João\n",
        "    (2, 1),  # Carlos matriculado com João\n",
        "    (3, 2)   # Mariana matriculada com Maria\n",
        "])\n",
        "\n",
        "# Confirmar as mudanças\n",
        "conexao.commit()\n",
        "\n",
        "print(\"Dados inseridos com sucesso!\")\n"
      ],
      "metadata": {
        "colab": {
          "base_uri": "https://localhost:8080/"
        },
        "id": "vANaBa-M5ocX",
        "outputId": "5e9b7210-6274-4937-8215-39695b18454c"
      },
      "execution_count": null,
      "outputs": [
        {
          "output_type": "stream",
          "name": "stdout",
          "text": [
            "Dados inseridos com sucesso!\n"
          ]
        }
      ]
    },
    {
      "cell_type": "code",
      "source": [
        "cursor.execute(\"SELECT * FROM Alunos\")\n",
        "alunos = cursor.fetchall()\n",
        "print(\"Lista de Alunos:\")\n",
        "for aluno in alunos:\n",
        "    print(aluno)\n"
      ],
      "metadata": {
        "colab": {
          "base_uri": "https://localhost:8080/"
        },
        "id": "C7hztkfl5vJY",
        "outputId": "97551f31-f75c-454d-882d-46f39e88aac7"
      },
      "execution_count": null,
      "outputs": [
        {
          "output_type": "stream",
          "name": "stdout",
          "text": [
            "Lista de Alunos:\n",
            "(1, 'Ana Souza', 14, '9A')\n",
            "(2, 'Carlos Silva', 15, '9B')\n",
            "(3, 'Mariana Costa', 13, '8A')\n"
          ]
        }
      ]
    },
    {
      "cell_type": "code",
      "source": [
        "cursor.execute(\"\"\"\n",
        "SELECT Alunos.nome, Professores.nome, Professores.disciplina\n",
        "FROM Matriculas\n",
        "JOIN Alunos ON Matriculas.aluno_id = Alunos.id\n",
        "JOIN Professores ON Matriculas.professor_id = Professores.id\n",
        "\"\"\")\n",
        "matriculas = cursor.fetchall()\n",
        "\n",
        "print(\"\\nMatrículas:\")\n",
        "for mat in matriculas:\n",
        "    print(f\"Aluno: {mat[0]}, Professor: {mat[1]}, Disciplina: {mat[2]}\")\n"
      ],
      "metadata": {
        "colab": {
          "base_uri": "https://localhost:8080/"
        },
        "id": "op6A1vpD5zzA",
        "outputId": "52dfc12e-3e7e-432a-c70c-25dc11998b40"
      },
      "execution_count": null,
      "outputs": [
        {
          "output_type": "stream",
          "name": "stdout",
          "text": [
            "\n",
            "Matrículas:\n",
            "Aluno: Ana Souza, Professor: Professor João, Disciplina: Matemática\n",
            "Aluno: Carlos Silva, Professor: Professor João, Disciplina: Matemática\n",
            "Aluno: Mariana Costa, Professor: Professora Maria, Disciplina: História\n"
          ]
        }
      ]
    },
    {
      "cell_type": "code",
      "source": [
        "# Fechar a conexão\n",
        "conexao.close()\n",
        "print(\"Conexão fechada.\")\n"
      ],
      "metadata": {
        "colab": {
          "base_uri": "https://localhost:8080/"
        },
        "id": "muOwYI3l54Co",
        "outputId": "b47aa515-2ca1-41e4-fb23-47f9589cc2be"
      },
      "execution_count": null,
      "outputs": [
        {
          "output_type": "stream",
          "name": "stdout",
          "text": [
            "Conexão fechada.\n"
          ]
        }
      ]
    }
  ]
}